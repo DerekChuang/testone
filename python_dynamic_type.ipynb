{
 "cells": [
  {
   "cell_type": "markdown",
   "metadata": {},
   "source": [
    "靜態型別(static type)的語言在使用一個變數時，必須事先宣告這個變數的data type，而動態型別則不需要，從下面一個很簡單的變數相加範例就可以看出其中差別。"
   ]
  },
  {
   "cell_type": "code",
   "execution_count": 1,
   "metadata": {},
   "outputs": [],
   "source": [
    "'''  C++ (static type language) \n",
    "int a = 1, b = 2;\n",
    "int sum=a+b;\n",
    "string s = \"I'm the example\";  '''\n",
    "\n",
    "# python (dynamic type language) \n",
    "a = 1\n",
    "b = 1\n",
    "sum = a+b\n",
    "s = \"I'm the example\""
   ]
  },
  {
   "cell_type": "markdown",
   "metadata": {},
   "source": [
    "C++宣告一個變數的時候，因為C++是靜態型別語言，所以必須明定這個變數的型別(範例中的int和string)並存取相應型別的資料，而python不需要宣告型別就可以直接存取任何型別的資料，而且在重新賦值的時候，可以存取和原型別不同的資料"
   ]
  },
  {
   "cell_type": "code",
   "execution_count": 3,
   "metadata": {},
   "outputs": [],
   "source": [
    "'''  C++ (static type language)  \n",
    "int a ;\n",
    "a = 1;\n",
    "a = \"I'm the example\"; // 會出現 compile error '''\n",
    "\n",
    "# /*  python (dynamic type language) */\n",
    "a = 1\n",
    "a = \"I'm the example\" # It's OK"
   ]
  },
  {
   "cell_type": "markdown",
   "metadata": {},
   "source": [
    "那python內部有何實作機制可以讓他有這樣的動態型別特性呢？\n",
    "\n",
    "A : python的所有變數都是一個參考(reference)，當我執行a=1這個指令時，事實上不是讓a存取1這個常數對象，而是直接引用1所在的一個記憶體位址"
   ]
  },
  {
   "cell_type": "code",
   "execution_count": 4,
   "metadata": {},
   "outputs": [],
   "source": [
    "a = 1"
   ]
  },
  {
   "cell_type": "code",
   "execution_count": 5,
   "metadata": {},
   "outputs": [],
   "source": [
    "b = 1 "
   ]
  },
  {
   "cell_type": "markdown",
   "metadata": {},
   "source": [
    "id(a)這個函數會回傳a所在的記憶體位址，但因為每次python都會任意設定記憶體位址，所以各位讀者測試後所得到的值會與範例不太一樣，但重要的是後面結果"
   ]
  },
  {
   "cell_type": "code",
   "execution_count": 8,
   "metadata": {},
   "outputs": [
    {
     "data": {
      "text/plain": [
       "1884384320"
      ]
     },
     "execution_count": 8,
     "metadata": {},
     "output_type": "execute_result"
    }
   ],
   "source": [
    "id(a) "
   ]
  },
  {
   "cell_type": "code",
   "execution_count": 9,
   "metadata": {},
   "outputs": [
    {
     "data": {
      "text/plain": [
       "1884384320"
      ]
     },
     "execution_count": 9,
     "metadata": {},
     "output_type": "execute_result"
    }
   ],
   "source": [
    "id(b)"
   ]
  },
  {
   "cell_type": "code",
   "execution_count": 11,
   "metadata": {},
   "outputs": [
    {
     "data": {
      "text/plain": [
       "1884384320"
      ]
     },
     "execution_count": 11,
     "metadata": {},
     "output_type": "execute_result"
    }
   ],
   "source": [
    "id(1)   # a,b,1所在的記憶體位址一樣！"
   ]
  },
  {
   "cell_type": "code",
   "execution_count": 14,
   "metadata": {},
   "outputs": [
    {
     "data": {
      "text/plain": [
       "1884384352"
      ]
     },
     "execution_count": 14,
     "metadata": {},
     "output_type": "execute_result"
    }
   ],
   "source": [
    "id(2)"
   ]
  },
  {
   "cell_type": "code",
   "execution_count": 15,
   "metadata": {},
   "outputs": [
    {
     "data": {
      "text/plain": [
       "1884384352"
      ]
     },
     "execution_count": 15,
     "metadata": {},
     "output_type": "execute_result"
    }
   ],
   "source": [
    "a = 2 \n",
    "id(a)"
   ]
  },
  {
   "cell_type": "markdown",
   "metadata": {},
   "source": [
    "為一個變數存入一個新常量，我只要將變數引用這個新常量所在的記憶體位址，不需要耗費工夫考慮\"新常數的size多大？\"，\"我需要allocate多大的記憶體給變數？\"這種C++才會遇到的問題。"
   ]
  },
  {
   "cell_type": "markdown",
   "metadata": {},
   "source": [
    "但這似乎非常奇怪，所以這些常數對象是一開始就會存在記憶體裡嗎？那世界上無窮多個不同形式的常量(整數常量：1,2,3... ,浮點數常量：'1.3','2.3,... ,字串常量：'a','b','ab',...)都各自存在一個記憶體位置，那記憶體不就永遠不夠了嗎？\n",
    "\n",
    "並不全是這樣，當然有些是在python最一開始初始化時就被創造出來並存在某位址裡，只要python繼續運作，這些常數對象就永遠不會消失，而有些是執行時需要這個常數對象的時候才會被建構出來，對於a=1這個指令，因為1這個常數對象在python初始化時就被建構出來，所以可以直接引用，但若遇到了a=100000這個指令，python首先會做的，是先建構100000這個對象並讓變數a去引用他。"
   ]
  },
  {
   "cell_type": "markdown",
   "metadata": {},
   "source": [
    "# mutable object(可變物件)和immutable object(不可變物件)"
   ]
  },
  {
   "cell_type": "code",
   "execution_count": 17,
   "metadata": {},
   "outputs": [
    {
     "data": {
      "text/plain": [
       "1884384320"
      ]
     },
     "execution_count": 17,
     "metadata": {},
     "output_type": "execute_result"
    }
   ],
   "source": [
    "a=1  # a == 1\n",
    "id(a)"
   ]
  },
  {
   "cell_type": "code",
   "execution_count": 18,
   "metadata": {},
   "outputs": [
    {
     "data": {
      "text/plain": [
       "1884384352"
      ]
     },
     "execution_count": 18,
     "metadata": {},
     "output_type": "execute_result"
    }
   ],
   "source": [
    "a+=1 # a == 2\n",
    "id(a)"
   ]
  },
  {
   "cell_type": "markdown",
   "metadata": {},
   "source": [
    "當a這個變數的內容被程式所改變，並不會影響原本的1這個物件，而是讓a的指針指向位置不同的物件2，所以a所在的記憶體位址會被改變"
   ]
  },
  {
   "cell_type": "code",
   "execution_count": 19,
   "metadata": {},
   "outputs": [
    {
     "data": {
      "text/plain": [
       "2861154457352"
      ]
     },
     "execution_count": 19,
     "metadata": {},
     "output_type": "execute_result"
    }
   ],
   "source": [
    "b=['1'] # b == ['1']\n",
    "id(b)"
   ]
  },
  {
   "cell_type": "code",
   "execution_count": 20,
   "metadata": {},
   "outputs": [
    {
     "data": {
      "text/plain": [
       "2861154457352"
      ]
     },
     "execution_count": 20,
     "metadata": {},
     "output_type": "execute_result"
    }
   ],
   "source": [
    "b.append('2')  # b == ['1','2']\n",
    "id(b)"
   ]
  },
  {
   "cell_type": "markdown",
   "metadata": {},
   "source": [
    "當b這個變數的內容被程式所改變，b不會改變引用的記憶體位址，而是改變原本的物件['1']，使之變為['1','2']"
   ]
  },
  {
   "cell_type": "markdown",
   "metadata": {},
   "source": [
    "上面範例讓a指向一個整數物件，此為一個immutable object，因此無論程式如何操作變數a的值，都不會更改原本的整數物件，而是讓a重新指向不同位址的物件(但若後者的物件不存在的話python會先建構他再讓a重新指向)，而b所指向的是一個list物件，此為mutable object，因此操作b這個變數相當於直接操作這個list物件，而讓物件內容被改變，另外python的dict物件也是屬於這種類型的物件。"
   ]
  },
  {
   "cell_type": "code",
   "execution_count": null,
   "metadata": {},
   "outputs": [],
   "source": []
  },
  {
   "cell_type": "code",
   "execution_count": null,
   "metadata": {},
   "outputs": [],
   "source": []
  },
  {
   "cell_type": "code",
   "execution_count": null,
   "metadata": {},
   "outputs": [],
   "source": []
  },
  {
   "cell_type": "code",
   "execution_count": null,
   "metadata": {},
   "outputs": [],
   "source": []
  },
  {
   "cell_type": "code",
   "execution_count": null,
   "metadata": {},
   "outputs": [],
   "source": []
  }
 ],
 "metadata": {
  "kernelspec": {
   "display_name": "Python 3",
   "language": "python",
   "name": "python3"
  },
  "language_info": {
   "codemirror_mode": {
    "name": "ipython",
    "version": 3
   },
   "file_extension": ".py",
   "mimetype": "text/x-python",
   "name": "python",
   "nbconvert_exporter": "python",
   "pygments_lexer": "ipython3",
   "version": "3.6.5"
  }
 },
 "nbformat": 4,
 "nbformat_minor": 2
}
