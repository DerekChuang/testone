{
 "cells": [
  {
   "cell_type": "markdown",
   "metadata": {},
   "source": [
    "# 變量"
   ]
  },
  {
   "cell_type": "code",
   "execution_count": 1,
   "metadata": {},
   "outputs": [
    {
     "name": "stdout",
     "output_type": "stream",
     "text": [
      "My name is: Nobody One Nobody One\n"
     ]
    }
   ],
   "source": [
    "name = \"Nobody One\"\n",
    "\n",
    "name2 = name\n",
    "\n",
    "print(\"My name is:\", name, name2)"
   ]
  },
  {
   "cell_type": "code",
   "execution_count": 2,
   "metadata": {},
   "outputs": [
    {
     "name": "stdout",
     "output_type": "stream",
     "text": [
      "PaoChe Ge Nobody One\n"
     ]
    }
   ],
   "source": [
    "name = \"PaoChe Ge\"\n",
    "\n",
    "print(name, name2)"
   ]
  },
  {
   "cell_type": "markdown",
   "metadata": {},
   "source": [
    "可以使用常見的二種命名變量的方式如下：\n",
    "\n",
    "駝峰型： ItHomeIronMan = \"tony stark\"\n",
    "官方建議： it_home_iron_man = \"tony stark\""
   ]
  },
  {
   "cell_type": "markdown",
   "metadata": {},
   "source": [
    "變量定義的規則：\n",
    "變量命名時，只能是字母、數字或是下劃線的任意組合\n",
    "變量命名時，第一個字符不能是數字\n",
    "package 及 module 的名稱中不要包含破折號 \"-\"\n",
    "變量名前後不要加上二個下劃線\n",
    "以下關鍵字不能聲明為變量名"
   ]
  },
  {
   "cell_type": "markdown",
   "metadata": {},
   "source": [
    "# 常量"
   ]
  },
  {
   "cell_type": "markdown",
   "metadata": {},
   "source": [
    "不會改變的變量，就是常量，但在 Python 中沒有常量的概念，所以如果要使用常量的話，建議都使用全部大寫的方式，這樣別人就可以知道，這是一個常量。"
   ]
  },
  {
   "cell_type": "code",
   "execution_count": 3,
   "metadata": {},
   "outputs": [],
   "source": [
    "MYSQL_USER_NAME = 'root'\n",
    "MYSQL_ROOT_PASSWD = 'password'\n",
    "MYSQL_CONNECTION_IP = '192.168.1.1'"
   ]
  },
  {
   "cell_type": "markdown",
   "metadata": {},
   "source": [
    "# 預設 Python3 默認就是用 utf-8 ，所以執行時就會直接打印出來。"
   ]
  },
  {
   "cell_type": "code",
   "execution_count": 4,
   "metadata": {},
   "outputs": [
    {
     "name": "stdout",
     "output_type": "stream",
     "text": [
      "你好，世界\n"
     ]
    }
   ],
   "source": [
    "name = \"你好，世界\"\n",
    "print(name)"
   ]
  },
  {
   "cell_type": "markdown",
   "metadata": {},
   "source": [
    "Python2.7\n",
    "\n",
    "#!/usr/bin/env python\n",
    "name = \"你好，世界\"\n",
    "print(name)\n",
    "\n",
    "----------------------執行結果----------------------\n",
    "\n",
    "SyntaxError: Non-ASCII character '\\xe4' in file coding.py on line 4, but no encoding declared; see http://python.org/dev/peps/pep-0263/ for details"
   ]
  },
  {
   "cell_type": "markdown",
   "metadata": {},
   "source": [
    "三個單引號 可以用在註解\n",
    "三個單引號也可以用來打印多行字符串，雙引號也可以用"
   ]
  },
  {
   "cell_type": "code",
   "execution_count": 5,
   "metadata": {},
   "outputs": [
    {
     "name": "stdout",
     "output_type": "stream",
     "text": [
      "\n",
      "Hello World\n",
      "Python3 is powerful language\n",
      "好牛逼阿\n",
      "\n"
     ]
    }
   ],
   "source": [
    "msg = '''\n",
    "Hello World\n",
    "Python3 is powerful language\n",
    "好牛逼阿\n",
    "'''\n",
    "print(msg)"
   ]
  },
  {
   "cell_type": "code",
   "execution_count": 6,
   "metadata": {},
   "outputs": [
    {
     "ename": "SyntaxError",
     "evalue": "invalid syntax (<ipython-input-6-024e603e7f5e>, line 1)",
     "output_type": "error",
     "traceback": [
      "\u001b[1;36m  File \u001b[1;32m\"<ipython-input-6-024e603e7f5e>\"\u001b[1;36m, line \u001b[1;32m1\u001b[0m\n\u001b[1;33m    msg = 'It's so hard for me'\u001b[0m\n\u001b[1;37m              ^\u001b[0m\n\u001b[1;31mSyntaxError\u001b[0m\u001b[1;31m:\u001b[0m invalid syntax\n"
     ]
    }
   ],
   "source": [
    "msg = 'It's so hard for me'"
   ]
  },
  {
   "cell_type": "code",
   "execution_count": 7,
   "metadata": {},
   "outputs": [
    {
     "name": "stdout",
     "output_type": "stream",
     "text": [
      "\n",
      "Hello World\n",
      "Python3 is powerful language\n",
      "好牛逼阿\n",
      "\n"
     ]
    }
   ],
   "source": [
    "print(msg)"
   ]
  },
  {
   "cell_type": "code",
   "execution_count": 8,
   "metadata": {},
   "outputs": [],
   "source": [
    "msg = \"It's so hard for me\""
   ]
  },
  {
   "cell_type": "code",
   "execution_count": 9,
   "metadata": {},
   "outputs": [
    {
     "name": "stdout",
     "output_type": "stream",
     "text": [
      "It's so hard for me\n"
     ]
    }
   ],
   "source": [
    "print(msg)"
   ]
  },
  {
   "cell_type": "markdown",
   "metadata": {},
   "source": [
    "# Python 基礎 - 字符串格式化"
   ]
  },
  {
   "cell_type": "code",
   "execution_count": 11,
   "metadata": {},
   "outputs": [
    {
     "name": "stdout",
     "output_type": "stream",
     "text": [
      "username:1\n",
      "password:1\n",
      "1 1\n"
     ]
    }
   ],
   "source": [
    "#簡單的互動輸入的小程式，透過 Python3 裡的 input() 就可以做出來的小功能\n",
    "\n",
    "username = input(\"username:\")\n",
    "password = input(\"password:\")\n",
    "\n",
    "print(username, password)"
   ]
  },
  {
   "cell_type": "code",
   "execution_count": 13,
   "metadata": {},
   "outputs": [
    {
     "name": "stdout",
     "output_type": "stream",
     "text": [
      "username:derek\n",
      "age:31\n",
      "job:ML engineer\n",
      "salary:$50000\n"
     ]
    }
   ],
   "source": [
    "# 再深入一點點，寫個顯示用戶的個人資訊\n",
    "\n",
    "\n",
    "name = input(\"username:\")\n",
    "age = input(\"age:\")\n",
    "job = input(\"job:\")\n",
    "salary = input(\"salary:\")"
   ]
  },
  {
   "cell_type": "code",
   "execution_count": 14,
   "metadata": {},
   "outputs": [],
   "source": [
    "# 開始做字符串格式化\n",
    "\n",
    "info = '''                                    \n",
    "---------- info of ''' + name + ''' ----------\n",
    "Name: ''' + name + '''\n",
    "Age: ''' + age + '''\n",
    "Job: ''' + job + '''\n",
    "Salary: ''' + salary + '''\n",
    "\n",
    "'''"
   ]
  },
  {
   "cell_type": "code",
   "execution_count": 15,
   "metadata": {},
   "outputs": [
    {
     "name": "stdout",
     "output_type": "stream",
     "text": [
      "                                    \n",
      "---------- info of derek ----------\n",
      "Name: derek\n",
      "Age: 31\n",
      "Job: ML engineer\n",
      "Salary: $50000\n",
      "\n",
      "\n"
     ]
    }
   ],
   "source": [
    "print(info)"
   ]
  },
  {
   "cell_type": "markdown",
   "metadata": {},
   "source": [
    "可是有沒有漂亮一點點的寫法？\n",
    "答案是有的，接下來就來依據之前的代碼來做修正"
   ]
  },
  {
   "cell_type": "code",
   "execution_count": 16,
   "metadata": {},
   "outputs": [
    {
     "name": "stdout",
     "output_type": "stream",
     "text": [
      "username:derek\n",
      "age:31\n",
      "job:ML engineer\n",
      "salary:$50000\n"
     ]
    }
   ],
   "source": [
    "name = input(\"username:\")\n",
    "age = input(\"age:\")\n",
    "job = input(\"job:\")\n",
    "salary = input(\"salary:\")\n"
   ]
  },
  {
   "cell_type": "code",
   "execution_count": 17,
   "metadata": {},
   "outputs": [],
   "source": [
    "# 開始做字符串格式化\n",
    "\n",
    "info1 = '''\n",
    "---------- info1 of %s' ----------\n",
    "Name: %s\n",
    "Age:  %s\n",
    "Job: %s\n",
    "Salary: %s\n",
    "''' %(name, name, age, job, salary)\n"
   ]
  },
  {
   "cell_type": "code",
   "execution_count": 18,
   "metadata": {},
   "outputs": [
    {
     "name": "stdout",
     "output_type": "stream",
     "text": [
      "\n",
      "---------- info1 of derek' ----------\n",
      "Name: derek\n",
      "Age:  31\n",
      "Job: ML engineer\n",
      "Salary: $50000\n",
      "\n"
     ]
    }
   ],
   "source": [
    "print(info1)"
   ]
  },
  {
   "cell_type": "markdown",
   "metadata": {},
   "source": [
    "上面程式碼裡的 Name, AGE, JOB Salary 都是字符串跟 name, name, age, job, salary是沒有關係的\n",
    "name, name, age, job, salary 所對應到的則都是 %s，這就是字符串格式化。"
   ]
  },
  {
   "cell_type": "code",
   "execution_count": 21,
   "metadata": {},
   "outputs": [
    {
     "name": "stdout",
     "output_type": "stream",
     "text": [
      "username:derek\n",
      "age:31\n",
      "job:ML\n",
      "salary:$ 50000\n"
     ]
    }
   ],
   "source": [
    "# 再深入一點點\n",
    "\n",
    "name = input(\"username:\")\n",
    "age = input(\"age:\")\n",
    "job = input(\"job:\")\n",
    "salary = input(\"salary:\")"
   ]
  },
  {
   "cell_type": "code",
   "execution_count": 22,
   "metadata": {},
   "outputs": [
    {
     "ename": "TypeError",
     "evalue": "%d format: a number is required, not str",
     "output_type": "error",
     "traceback": [
      "\u001b[1;31m---------------------------------------------------------------------------\u001b[0m",
      "\u001b[1;31mTypeError\u001b[0m                                 Traceback (most recent call last)",
      "\u001b[1;32m<ipython-input-22-e00eaa629382>\u001b[0m in \u001b[0;36m<module>\u001b[1;34m()\u001b[0m\n\u001b[0;32m      5\u001b[0m \u001b[0mJob\u001b[0m\u001b[1;33m:\u001b[0m \u001b[1;33m%\u001b[0m\u001b[0ms\u001b[0m\u001b[1;33m\u001b[0m\u001b[0m\n\u001b[0;32m      6\u001b[0m \u001b[0mSalary\u001b[0m\u001b[1;33m:\u001b[0m \u001b[1;33m%\u001b[0m\u001b[0ms\u001b[0m\u001b[1;33m\u001b[0m\u001b[0m\n\u001b[1;32m----> 7\u001b[1;33m ''' %(name, name, age, job, salary)\n\u001b[0m",
      "\u001b[1;31mTypeError\u001b[0m: %d format: a number is required, not str"
     ]
    }
   ],
   "source": [
    "info2 = '''\n",
    "---------- info2 of %s ----------\n",
    "Name: %s\n",
    "Age:  %d   (這次修改成 %d, 來觀察一下有什麼差別？)\n",
    "Job: %s\n",
    "Salary: %s\n",
    "''' %(name, name, age, job, salary)"
   ]
  },
  {
   "cell_type": "code",
   "execution_count": 23,
   "metadata": {},
   "outputs": [
    {
     "name": "stdout",
     "output_type": "stream",
     "text": [
      "<class 'str'>\n"
     ]
    }
   ],
   "source": [
    "print(type(age))"
   ]
  },
  {
   "cell_type": "code",
   "execution_count": 25,
   "metadata": {},
   "outputs": [
    {
     "name": "stdout",
     "output_type": "stream",
     "text": [
      "username:derek\n",
      "age:31\n",
      "<class 'int'>\n",
      "job:ml\n",
      "salary:50000\n"
     ]
    }
   ],
   "source": [
    "#只好強制把 age 轉換成數字 \n",
    "\n",
    "name = input(\"username:\")\n",
    "age = int(input(\"age:\"))        # 在input前，加入int()強制轉換\n",
    "print(type(age))        # 顯示變量的數據類型\n",
    "job = input(\"job:\")\n",
    "salary = int(input(\"salary:\"))\n"
   ]
  },
  {
   "cell_type": "code",
   "execution_count": 26,
   "metadata": {},
   "outputs": [
    {
     "name": "stdout",
     "output_type": "stream",
     "text": [
      "\n",
      "---------- info3 of derek ----------\n",
      "Name: derek\n",
      "Age:  31\n",
      "Job: ml\n",
      "Salary: 50000\n",
      "\n"
     ]
    }
   ],
   "source": [
    "info3 = '''\n",
    "---------- info3 of %s ----------\n",
    "Name: %s\n",
    "Age:  %d\n",
    "Job: %s\n",
    "Salary: %i\n",
    "''' %(name, name, age, job, salary)\n",
    "\n",
    "print(info3)"
   ]
  },
  {
   "cell_type": "markdown",
   "metadata": {},
   "source": [
    "知識點：\n",
    "\n",
    "% 是指執行字符串格式化\n",
    "\n",
    "%s 是指字符串在執行格式化之前透過 str() 來轉換，簡單說就是『字符串』\n",
    "\n",
    "%d 是指數字，也是整數，這個跟 %i 都是一樣的功能\n",
    "\n",
    "%f 是指浮點數，有小數點的數字。   "
   ]
  },
  {
   "cell_type": "code",
   "execution_count": 30,
   "metadata": {},
   "outputs": [
    {
     "name": "stdout",
     "output_type": "stream",
     "text": [
      "username:derek\n",
      "age:31\n",
      "job:ml\n",
      "salary:50000\n",
      "\n",
      "---------- info4 of derek ----------\n",
      "Name: derek\n",
      "Age:  31\n",
      "Job: ml\n",
      "Salary: 50000\n",
      "\n"
     ]
    }
   ],
   "source": [
    "#　常見的字符串格式化\n",
    "#  官方建議\n",
    "\n",
    "name = input(\"username:\")\n",
    "age = int(input(\"age:\"))        \n",
    "job = input(\"job:\")\n",
    "salary = int(input(\"salary:\"))\n",
    "\n",
    "# 開始做字符串格式化\n",
    "\n",
    "info4 = '''\n",
    "---------- info4 of {_name} ----------\n",
    "Name: {_name}\n",
    "Age:  {_age}\n",
    "Job: {_job}\n",
    "Salary: {_salary}\n",
    "'''.format(_name=name,\n",
    "               _age=age,\n",
    "               _job=job,\n",
    "               _salary=salary)\n",
    "\n",
    "print(info4)"
   ]
  },
  {
   "cell_type": "code",
   "execution_count": 31,
   "metadata": {},
   "outputs": [
    {
     "name": "stdout",
     "output_type": "stream",
     "text": [
      "username:derek\n",
      "age:31\n",
      "job:ml\n",
      "salary:50000\n",
      "\n",
      "---------- info4 of derek ----------\n",
      "Name: derek\n",
      "Age:  31\n",
      "Job: ml\n",
      "Salary: 50000\n",
      "\n"
     ]
    }
   ],
   "source": [
    "name = input(\"username:\")\n",
    "age = int(input(\"age:\"))        \n",
    "job = input(\"job:\")\n",
    "salary = int(input(\"salary:\"))\n",
    "\n",
    "# 開始做字符串格式化\n",
    "\n",
    "info5 = '''\n",
    "---------- info4 of {0} ----------\n",
    "Name: {0}\n",
    "Age:  {1}\n",
    "Job: {2}\n",
    "Salary: {3}\n",
    "'''.format(name,age,job,salary)\n",
    "\n",
    "\n",
    "print(info5)"
   ]
  },
  {
   "cell_type": "markdown",
   "metadata": {},
   "source": [
    "知識點：\n",
    "\n",
    "千萬不要使用 ---------- info of ''' + name + ''' ---------- 做字符串格式化，會大量占據內存的空間，導致效能很差\n",
    "\n",
    "官方建議可以使用 ---------- info4 of {_name} ---------- 做字符串格式化"
   ]
  },
  {
   "cell_type": "code",
   "execution_count": null,
   "metadata": {},
   "outputs": [],
   "source": []
  },
  {
   "cell_type": "code",
   "execution_count": null,
   "metadata": {},
   "outputs": [],
   "source": []
  },
  {
   "cell_type": "code",
   "execution_count": null,
   "metadata": {},
   "outputs": [],
   "source": []
  }
 ],
 "metadata": {
  "kernelspec": {
   "display_name": "Python 3",
   "language": "python",
   "name": "python3"
  },
  "language_info": {
   "codemirror_mode": {
    "name": "ipython",
    "version": 3
   },
   "file_extension": ".py",
   "mimetype": "text/x-python",
   "name": "python",
   "nbconvert_exporter": "python",
   "pygments_lexer": "ipython3",
   "version": "3.6.5"
  }
 },
 "nbformat": 4,
 "nbformat_minor": 2
}
